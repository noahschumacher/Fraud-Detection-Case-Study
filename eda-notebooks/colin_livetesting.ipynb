{
 "cells": [
  {
   "cell_type": "code",
   "execution_count": 21,
   "metadata": {},
   "outputs": [],
   "source": [
    "import requests\n",
    "api_key = 'vYm9mTUuspeyAWH1v-acfoTlck-tCxwTw9YfCynC'\n",
    "#broken link\n",
    "#url = 'https://hxobin8em5.execute-api.us-west-2.amazonaws.com/api/'\n",
    "url = 'http://galvanize-case-study-on-fraud.herokuapp.com/data_point'\n",
    "sequence_number = 0\n",
    "#response = requests.post(url, json={'api_key': api_key,\n",
    "                                    #'sequence_number': sequence_number})\n",
    "\n",
    "response = requests.get(url)\n",
    "\n",
    "raw_data = response.json()"
   ]
  },
  {
   "cell_type": "code",
   "execution_count": 22,
   "metadata": {},
   "outputs": [
    {
     "data": {
      "text/plain": [
       "{'approx_payout_date': 1314162000,\n",
       " 'body_length': 607,\n",
       " 'channels': 4,\n",
       " 'country': 'US',\n",
       " 'currency': 'USD',\n",
       " 'delivery_method': 0.0,\n",
       " 'description': '<p>Presenting the first annual wine and fine liquor tasting fundraiser hosted at the picturesque Dahlgreen Golf Course.\\xa0 Teaming up with Dolce Vita, there will be over 50 different variety of wine as well as a variety of premium liquors including scotch, whiskey, and bourbon.\\xa0\\xa0 This exciting event will take place on Thursday, August 18th from 7 to 10pm.\\xa0\\xa0 </p>\\r\\n<p>Hor d’oeuvres, along with live entertainment, will be provided for a fun evening among friends.\\xa0 Throughout the evening different wines and other prized will be raffled.\\xa0 </p>\\r\\n<p>Sign up today for the Toast of the Town 2011 fundraiser.</p>',\n",
       " 'email_domain': 'gmail.com',\n",
       " 'event_created': 1310158321,\n",
       " 'event_end': 1313730000,\n",
       " 'event_published': 1310685102.0,\n",
       " 'event_start': 1313719200,\n",
       " 'fb_published': 0,\n",
       " 'gts': 318.87,\n",
       " 'has_analytics': 0,\n",
       " 'has_header': 0.0,\n",
       " 'has_logo': 1,\n",
       " 'listed': 'y',\n",
       " 'name': 'Toast of the Town 2011 - Fundraiser',\n",
       " 'name_length': 35,\n",
       " 'num_order': 6,\n",
       " 'num_payouts': 0,\n",
       " 'object_id': 1895751,\n",
       " 'org_desc': '',\n",
       " 'org_facebook': 0.0,\n",
       " 'org_name': '',\n",
       " 'org_twitter': 0.0,\n",
       " 'payee_name': 'Chaska High School Dance Team',\n",
       " 'payout_type': 'CHECK',\n",
       " 'previous_payouts': [{'address': 'Attn: Kris Rydland, Activies Office',\n",
       "   'amount': 290.0,\n",
       "   'country': 'US',\n",
       "   'created': '2011-08-23 01:11:12',\n",
       "   'event': 1895751,\n",
       "   'name': 'Chaska High School Dance Team',\n",
       "   'state': 'MN',\n",
       "   'uid': 17252973,\n",
       "   'zip_code': '55318'}],\n",
       " 'sale_duration': 35.0,\n",
       " 'sale_duration2': 41,\n",
       " 'show_map': 1,\n",
       " 'ticket_types': [{'availability': 1,\n",
       "   'cost': 35.0,\n",
       "   'event_id': 1895751,\n",
       "   'quantity_sold': 1,\n",
       "   'quantity_total': 250},\n",
       "  {'availability': 1,\n",
       "   'cost': 25.0,\n",
       "   'event_id': 1895751,\n",
       "   'quantity_sold': 9,\n",
       "   'quantity_total': 300},\n",
       "  {'availability': 1,\n",
       "   'cost': 10.0,\n",
       "   'event_id': 1895751,\n",
       "   'quantity_sold': 3,\n",
       "   'quantity_total': 500},\n",
       "  {'availability': 1,\n",
       "   'cost': 0.0,\n",
       "   'event_id': 1895751,\n",
       "   'quantity_sold': 0,\n",
       "   'quantity_total': 500}],\n",
       " 'user_age': 0,\n",
       " 'user_created': 1310158319,\n",
       " 'user_type': 1,\n",
       " 'venue_address': '6940 Dahlgreen Road',\n",
       " 'venue_country': 'US',\n",
       " 'venue_latitude': 44.771279,\n",
       " 'venue_longitude': -93.697841,\n",
       " 'venue_name': 'Dahlgreen Colf Course',\n",
       " 'venue_state': 'MN'}"
      ]
     },
     "execution_count": 22,
     "metadata": {},
     "output_type": "execute_result"
    }
   ],
   "source": [
    "raw_data"
   ]
  },
  {
   "cell_type": "code",
   "execution_count": 7,
   "metadata": {},
   "outputs": [],
   "source": [
    "from bs4 import BeautifulSoup"
   ]
  },
  {
   "cell_type": "code",
   "execution_count": 9,
   "metadata": {},
   "outputs": [],
   "source": [
    "soup = BeautifulSoup(raw_data.content, 'html.parser')"
   ]
  },
  {
   "cell_type": "code",
   "execution_count": 23,
   "metadata": {},
   "outputs": [],
   "source": [
    "from pymongo import MongoClient\n",
    "client = MongoClient('localhost', 27017)\n",
    "db = client['fraud']\n",
    "table = db['events']"
   ]
  },
  {
   "cell_type": "code",
   "execution_count": 26,
   "metadata": {},
   "outputs": [
    {
     "data": {
      "text/plain": [
       "<pymongo.results.InsertOneResult at 0x111bb3cc8>"
      ]
     },
     "execution_count": 26,
     "metadata": {},
     "output_type": "execute_result"
    }
   ],
   "source": [
    "table.insert_one(raw_data)"
   ]
  },
  {
   "cell_type": "code",
   "execution_count": 29,
   "metadata": {},
   "outputs": [
    {
     "ename": "IndexError",
     "evalue": "Cursor instances do not support negative indices",
     "output_type": "error",
     "traceback": [
      "\u001b[0;31m---------------------------------------------------------------------------\u001b[0m",
      "\u001b[0;31mIndexError\u001b[0m                                Traceback (most recent call last)",
      "\u001b[0;32m<ipython-input-29-2f2d44af95a5>\u001b[0m in \u001b[0;36m<module>\u001b[0;34m()\u001b[0m\n\u001b[0;32m----> 1\u001b[0;31m \u001b[0mtable\u001b[0m\u001b[0;34m.\u001b[0m\u001b[0mfind\u001b[0m\u001b[0;34m(\u001b[0m\u001b[0;34m)\u001b[0m\u001b[0;34m[\u001b[0m\u001b[0;34m-\u001b[0m\u001b[0;36m1\u001b[0m\u001b[0;34m]\u001b[0m\u001b[0;34m\u001b[0m\u001b[0m\n\u001b[0m",
      "\u001b[0;32m~/anaconda3/lib/python3.6/site-packages/pymongo/cursor.py\u001b[0m in \u001b[0;36m__getitem__\u001b[0;34m(self, index)\u001b[0m\n\u001b[1;32m    602\u001b[0m         \u001b[0;32mif\u001b[0m \u001b[0misinstance\u001b[0m\u001b[0;34m(\u001b[0m\u001b[0mindex\u001b[0m\u001b[0;34m,\u001b[0m \u001b[0minteger_types\u001b[0m\u001b[0;34m)\u001b[0m\u001b[0;34m:\u001b[0m\u001b[0;34m\u001b[0m\u001b[0m\n\u001b[1;32m    603\u001b[0m             \u001b[0;32mif\u001b[0m \u001b[0mindex\u001b[0m \u001b[0;34m<\u001b[0m \u001b[0;36m0\u001b[0m\u001b[0;34m:\u001b[0m\u001b[0;34m\u001b[0m\u001b[0m\n\u001b[0;32m--> 604\u001b[0;31m                 raise IndexError(\"Cursor instances do not support negative \"\n\u001b[0m\u001b[1;32m    605\u001b[0m                                  \"indices\")\n\u001b[1;32m    606\u001b[0m             \u001b[0mclone\u001b[0m \u001b[0;34m=\u001b[0m \u001b[0mself\u001b[0m\u001b[0;34m.\u001b[0m\u001b[0mclone\u001b[0m\u001b[0;34m(\u001b[0m\u001b[0;34m)\u001b[0m\u001b[0;34m\u001b[0m\u001b[0m\n",
      "\u001b[0;31mIndexError\u001b[0m: Cursor instances do not support negative indices"
     ]
    }
   ],
   "source": [
    "table.find()"
   ]
  },
  {
   "cell_type": "code",
   "execution_count": null,
   "metadata": {},
   "outputs": [],
   "source": []
  }
 ],
 "metadata": {
  "kernelspec": {
   "display_name": "Python 3",
   "language": "python",
   "name": "python3"
  },
  "language_info": {
   "codemirror_mode": {
    "name": "ipython",
    "version": 3
   },
   "file_extension": ".py",
   "mimetype": "text/x-python",
   "name": "python",
   "nbconvert_exporter": "python",
   "pygments_lexer": "ipython3",
   "version": "3.6.5"
  }
 },
 "nbformat": 4,
 "nbformat_minor": 2
}
